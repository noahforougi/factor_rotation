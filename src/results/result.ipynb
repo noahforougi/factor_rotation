{
 "cells": [
  {
   "cell_type": "markdown",
   "metadata": {},
   "source": [
    "# Report \n",
    "This notebook serves to create the results and analyze the strategy of this project. \n",
    "\n",
    "### Pre-processing Steps \n",
    "You need to run the steps to extract the data and download it and create the business cycle indicator. To do so, you need to run: \n",
    "\n",
    "**Fetch Data from FRED and Yahoo Finance**\n",
    "python src/cli/cli.py fetch --macro --trade\n",
    "**Construct Business Cycle Indicator**\n",
    "python src/cli/cli.py business-cycle\n"
   ]
  },
  {
   "cell_type": "code",
   "execution_count": 7,
   "metadata": {},
   "outputs": [
    {
     "data": {
      "text/plain": [
       "<module 'trade.core' from '/Users/noahforougi/research/factor_rotation/src/results/../trade/core.py'>"
      ]
     },
     "execution_count": 7,
     "metadata": {},
     "output_type": "execute_result"
    }
   ],
   "source": [
    "import pandas as pd\n",
    "import sys\n",
    "sys.path.append(\"..\")\n",
    "from trade import core\n",
    "from importlib import reload\n",
    "reload(core)"
   ]
  },
  {
   "cell_type": "markdown",
   "metadata": {},
   "source": [
    "### 1. Create Strategic DataFrame"
   ]
  },
  {
   "cell_type": "code",
   "execution_count": 9,
   "metadata": {},
   "outputs": [],
   "source": [
    "factor_prices = pd.read_csv(\"../data/etf_data.csv\")\n",
    "bci = pd.read_csv(\"../data/business_cycle_indicator.csv\")\n"
   ]
  },
  {
   "cell_type": "code",
   "execution_count": 10,
   "metadata": {},
   "outputs": [],
   "source": [
    "strategic_dataframe = core.create_strategy(factor_prices, bci)"
   ]
  },
  {
   "cell_type": "markdown",
   "metadata": {},
   "source": [
    "### 2. Exploratory Data Analysis"
   ]
  },
  {
   "cell_type": "markdown",
   "metadata": {},
   "source": [
    "- Table of average return by cycle \n",
    "- Time series plot of monthly returns \n",
    "- Time series plot cumulative returns over time "
   ]
  },
  {
   "cell_type": "markdown",
   "metadata": {},
   "source": [
    "### 3. Analysis of Strategy Performance vs Benchmark "
   ]
  },
  {
   "cell_type": "markdown",
   "metadata": {},
   "source": [
    "- Comparison of average monthly reutrn \n",
    "- Comparison of cumulative return \n",
    "- Max drawdrown "
   ]
  }
 ],
 "metadata": {
  "kernelspec": {
   "display_name": "factor_rotation_env",
   "language": "python",
   "name": "python3"
  },
  "language_info": {
   "codemirror_mode": {
    "name": "ipython",
    "version": 3
   },
   "file_extension": ".py",
   "mimetype": "text/x-python",
   "name": "python",
   "nbconvert_exporter": "python",
   "pygments_lexer": "ipython3",
   "version": "3.10.10"
  }
 },
 "nbformat": 4,
 "nbformat_minor": 2
}
