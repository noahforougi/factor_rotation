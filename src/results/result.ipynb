{
 "cells": [
  {
   "cell_type": "markdown",
   "metadata": {},
   "source": [
    "# Report \n",
    "This notebook serves to create the results and analyze the strategy of this project. \n",
    "\n",
    "### Pre-processing Steps \n",
    "You need to run the steps to extract the data and download it and create the business cycle indicator. To do so, you need to run: \n",
    "\n",
    "**Fetch Data from FRED and Yahoo Finance**\n",
    "python src/cli/cli.py fetch --macro --trade\n",
    "**Construct Business Cycle Indicator**\n",
    "python src/cli/cli.py business-cycle\n"
   ]
  },
  {
   "cell_type": "code",
   "execution_count": 15,
   "metadata": {},
   "outputs": [
    {
     "data": {
      "text/plain": [
       "<module 'ingress.core' from '/Users/noahforougi/research/factor_rotation/src/results/../ingress/core.py'>"
      ]
     },
     "execution_count": 15,
     "metadata": {},
     "output_type": "execute_result"
    }
   ],
   "source": [
    "import pandas as pd\n",
    "import sys\n",
    "sys.path.append(\"..\")\n",
    "from trade import core\n",
    "from ingress import core as ingress_core\n",
    "from importlib import reload\n",
    "reload(core)\n",
    "reload(ingress_core)"
   ]
  },
  {
   "cell_type": "markdown",
   "metadata": {},
   "source": [
    "### 1. Create Strategic DataFrame"
   ]
  },
  {
   "cell_type": "code",
   "execution_count": 6,
   "metadata": {},
   "outputs": [],
   "source": [
    "factor_prices = ingress_core.read_csv_from_s3(\"etf_data.csv\")\n",
    "bci = ingress_core.read_csv_from_s3(\"business_cycle_indicator.csv\")\n"
   ]
  },
  {
   "cell_type": "code",
   "execution_count": 16,
   "metadata": {},
   "outputs": [],
   "source": [
    "strategic_dataframe = core.create_strategy(factor_prices, bci)"
   ]
  },
  {
   "cell_type": "markdown",
   "metadata": {},
   "source": [
    "### 2. Exploratory Data Analysis"
   ]
  },
  {
   "cell_type": "code",
   "execution_count": 17,
   "metadata": {},
   "outputs": [
    {
     "data": {
      "text/html": [
       "<div>\n",
       "<style scoped>\n",
       "    .dataframe tbody tr th:only-of-type {\n",
       "        vertical-align: middle;\n",
       "    }\n",
       "\n",
       "    .dataframe tbody tr th {\n",
       "        vertical-align: top;\n",
       "    }\n",
       "\n",
       "    .dataframe thead th {\n",
       "        text-align: right;\n",
       "    }\n",
       "</style>\n",
       "<table border=\"1\" class=\"dataframe\">\n",
       "  <thead>\n",
       "    <tr style=\"text-align: right;\">\n",
       "      <th></th>\n",
       "      <th>date</th>\n",
       "      <th>strategy_returns</th>\n",
       "      <th>equal_weight_returns</th>\n",
       "      <th>BCI</th>\n",
       "      <th>Cycle_Phase</th>\n",
       "    </tr>\n",
       "  </thead>\n",
       "  <tbody>\n",
       "    <tr>\n",
       "      <th>0</th>\n",
       "      <td>2011-11-01</td>\n",
       "      <td>0.002194</td>\n",
       "      <td>0.001130</td>\n",
       "      <td>0.740433</td>\n",
       "      <td>Contraction</td>\n",
       "    </tr>\n",
       "    <tr>\n",
       "      <th>1</th>\n",
       "      <td>2011-12-01</td>\n",
       "      <td>0.006715</td>\n",
       "      <td>0.009216</td>\n",
       "      <td>0.649919</td>\n",
       "      <td>Contraction</td>\n",
       "    </tr>\n",
       "    <tr>\n",
       "      <th>2</th>\n",
       "      <td>2012-01-01</td>\n",
       "      <td>0.040831</td>\n",
       "      <td>0.040173</td>\n",
       "      <td>0.572650</td>\n",
       "      <td>Contraction</td>\n",
       "    </tr>\n",
       "    <tr>\n",
       "      <th>3</th>\n",
       "      <td>2012-02-01</td>\n",
       "      <td>0.036904</td>\n",
       "      <td>0.037785</td>\n",
       "      <td>0.548969</td>\n",
       "      <td>Contraction</td>\n",
       "    </tr>\n",
       "    <tr>\n",
       "      <th>4</th>\n",
       "      <td>2012-03-01</td>\n",
       "      <td>0.031033</td>\n",
       "      <td>0.030682</td>\n",
       "      <td>0.484954</td>\n",
       "      <td>Contraction</td>\n",
       "    </tr>\n",
       "    <tr>\n",
       "      <th>...</th>\n",
       "      <td>...</td>\n",
       "      <td>...</td>\n",
       "      <td>...</td>\n",
       "      <td>...</td>\n",
       "      <td>...</td>\n",
       "    </tr>\n",
       "    <tr>\n",
       "      <th>141</th>\n",
       "      <td>2023-08-01</td>\n",
       "      <td>-0.013452</td>\n",
       "      <td>-0.008183</td>\n",
       "      <td>0.225417</td>\n",
       "      <td>Expansion</td>\n",
       "    </tr>\n",
       "    <tr>\n",
       "      <th>142</th>\n",
       "      <td>2023-09-01</td>\n",
       "      <td>-0.044715</td>\n",
       "      <td>-0.042706</td>\n",
       "      <td>0.336890</td>\n",
       "      <td>Contraction</td>\n",
       "    </tr>\n",
       "    <tr>\n",
       "      <th>143</th>\n",
       "      <td>2023-10-01</td>\n",
       "      <td>-0.022259</td>\n",
       "      <td>-0.024904</td>\n",
       "      <td>0.186766</td>\n",
       "      <td>Contraction</td>\n",
       "    </tr>\n",
       "    <tr>\n",
       "      <th>144</th>\n",
       "      <td>2023-11-01</td>\n",
       "      <td>0.087185</td>\n",
       "      <td>0.082522</td>\n",
       "      <td>0.074199</td>\n",
       "      <td>Contraction</td>\n",
       "    </tr>\n",
       "    <tr>\n",
       "      <th>145</th>\n",
       "      <td>2023-12-01</td>\n",
       "      <td>0.019632</td>\n",
       "      <td>0.019430</td>\n",
       "      <td>0.031708</td>\n",
       "      <td>Contraction</td>\n",
       "    </tr>\n",
       "  </tbody>\n",
       "</table>\n",
       "<p>146 rows × 5 columns</p>\n",
       "</div>"
      ],
      "text/plain": [
       "          date  strategy_returns  equal_weight_returns       BCI  Cycle_Phase\n",
       "0   2011-11-01          0.002194              0.001130  0.740433  Contraction\n",
       "1   2011-12-01          0.006715              0.009216  0.649919  Contraction\n",
       "2   2012-01-01          0.040831              0.040173  0.572650  Contraction\n",
       "3   2012-02-01          0.036904              0.037785  0.548969  Contraction\n",
       "4   2012-03-01          0.031033              0.030682  0.484954  Contraction\n",
       "..         ...               ...                   ...       ...          ...\n",
       "141 2023-08-01         -0.013452             -0.008183  0.225417    Expansion\n",
       "142 2023-09-01         -0.044715             -0.042706  0.336890  Contraction\n",
       "143 2023-10-01         -0.022259             -0.024904  0.186766  Contraction\n",
       "144 2023-11-01          0.087185              0.082522  0.074199  Contraction\n",
       "145 2023-12-01          0.019632              0.019430  0.031708  Contraction\n",
       "\n",
       "[146 rows x 5 columns]"
      ]
     },
     "execution_count": 17,
     "metadata": {},
     "output_type": "execute_result"
    }
   ],
   "source": [
    "strategic_dataframe.groupby(\"\")"
   ]
  },
  {
   "cell_type": "markdown",
   "metadata": {},
   "source": [
    "- Table of average return by cycle \n",
    "- Time series plot of monthly returns \n",
    "- Time series plot cumulative returns over time "
   ]
  },
  {
   "cell_type": "markdown",
   "metadata": {},
   "source": [
    "### 3. Analysis of Strategy Performance vs Benchmark "
   ]
  },
  {
   "cell_type": "markdown",
   "metadata": {},
   "source": [
    "- Comparison of average monthly reutrn \n",
    "- Comparison of cumulative return \n",
    "- Max drawdrown "
   ]
  }
 ],
 "metadata": {
  "kernelspec": {
   "display_name": "factor_rotation_env",
   "language": "python",
   "name": "python3"
  },
  "language_info": {
   "codemirror_mode": {
    "name": "ipython",
    "version": 3
   },
   "file_extension": ".py",
   "mimetype": "text/x-python",
   "name": "python",
   "nbconvert_exporter": "python",
   "pygments_lexer": "ipython3",
   "version": "3.10.10"
  }
 },
 "nbformat": 4,
 "nbformat_minor": 2
}
